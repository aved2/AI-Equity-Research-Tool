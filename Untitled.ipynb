{
 "cells": [
  {
   "cell_type": "markdown",
   "id": "235a762e-93ef-43b8-bac7-a1ee62652b3a",
   "metadata": {},
   "source": [
    "# Implementing Semantic Search"
   ]
  },
  {
   "cell_type": "markdown",
   "id": "4f7531bd-7497-4513-a79d-230430c6a337",
   "metadata": {},
   "source": [
    "## **1. LangChain Setup**"
   ]
  },
  {
   "cell_type": "markdown",
   "id": "1a253101-296d-48b6-b38f-5972ecde24f7",
   "metadata": {},
   "source": [
    "#### **Loading data from text files and urls**"
   ]
  },
  {
   "cell_type": "code",
   "execution_count": 6,
   "id": "4aff55fb-2f96-4958-adae-4e5dea423885",
   "metadata": {},
   "outputs": [],
   "source": [
    "import os\n",
    "#Text file loader\n",
    "from langchain.document_loaders import TextLoader"
   ]
  },
  {
   "cell_type": "code",
   "execution_count": 7,
   "id": "4be4abb5-697e-4125-b331-c4799e513f67",
   "metadata": {},
   "outputs": [
    {
     "name": "stdout",
     "output_type": "stream",
     "text": [
      "/Users/Aditya/Desktop/Equity_Research\n"
     ]
    }
   ],
   "source": [
    "print(os.getcwd())"
   ]
  },
  {
   "cell_type": "code",
   "execution_count": 22,
   "id": "5f8dd91b-5eed-4478-9242-875eb47e01a5",
   "metadata": {
    "scrolled": true
   },
   "outputs": [
    {
     "name": "stdout",
     "output_type": "stream",
     "text": [
      "{'source': 'nvda_news_1.txt'} \n",
      "\n",
      "The stock of NVIDIA Corp (NASDAQ:NVDA) experienced a daily loss of -3.56% and a 3-month gain of 32.35%. With an Earnings Per Share (EPS) (EPS) of $1.92, the question arises: is the stock significantly overvalued? This article aims to provide a detailed valuation analysis of NVIDIA, offering insights into its financial strength, profitability, growth, and more. We invite you to delve into this comprehensive analysis.\n",
      "\n",
      "Company Overview\n",
      "Warning! GuruFocus has detected 10 Warning Signs with NVDA. Click here to check it out.\n",
      "\n",
      "NVDA 30-Year Financial Data\n",
      "\n",
      "The intrinsic value of NVDA\n",
      "\n",
      "\n",
      "NVIDIA Corp (NASDAQ:NVDA) is a leading designer of discrete graphics processing units that enhance the experience on computing platforms. The firm's chips are widely used in various end markets, including PC gaming and data centers. In recent years, NVIDIA has broadened its focus from traditional PC graphics applications such as gaming to more complex and favorable opportunities, including artificial intelligence and autonomous driving, leveraging the high-performance capabilities of its products.\n",
      "\n",
      "Currently, NVIDIA's stock price stands at $418.01, significantly higher than the GF Value of $310.28, indicating the stock might be overvalued. With a market cap of $1 trillion, the valuation seems steep. The following analysis aims to delve deeper into the company's value.\n",
      "\n",
      "Is NVIDIA's Stock Significantly Overvalued? A Comprehensive Valuation Analysis\n",
      "Is NVIDIA's Stock Significantly Overvalued? A Comprehensive Valuation Analysis\n",
      "Understanding the GF Value\n",
      "The GF Value is a unique measure of the intrinsic value of a stock, calculated based on historical trading multiples, a GuruFocus adjustment factor, and future business performance estimates. If the stock price is significantly above the GF Value Line, it is overvalued, and its future return is likely to be poor. Conversely, if it is significantly below the GF Value Line, its future return will likely be higher.\n",
      "\n",
      "According to GuruFocus Value calculation, NVIDIA (NASDAQ:NVDA) appears to be significantly overvalued. The stock's current price of $418.01 per share and the market cap of $1 trillion further strengthen this assumption.\n",
      "\n",
      "Given that NVIDIA is significantly overvalued, the long-term return of its stock is likely to be much lower than its future business growth.\n",
      "\n",
      "Is NVIDIA's Stock Significantly Overvalued? A Comprehensive Valuation Analysis\n",
      "Is NVIDIA's Stock Significantly Overvalued? A Comprehensive Valuation Analysis\n",
      "Link: These companies may deliver higher future returns at reduced risk.\n",
      "\n",
      "Financial Strength of NVIDIA\n",
      "Examining the financial strength of a company is crucial before investing in its stock. Companies with poor financial strength pose a higher risk of permanent loss. NVIDIA's cash-to-debt ratio of 1.27 is worse than 58.04% of companies in the Semiconductors industry. However, NVIDIA's overall financial strength is 8 out of 10, indicating a strong financial position.\n",
      "\n",
      "Is NVIDIA's Stock Significantly Overvalued? A Comprehensive Valuation Analysis\n",
      "Is NVIDIA's Stock Significantly Overvalued? A Comprehensive Valuation Analysis\n",
      "Profitability and Growth\n",
      "Consistent profitability over the long term reduces the risk for investors. NVIDIA, with its profitability ranking of 10 out of 10, has been profitable for the past 10 years. The company's operating margin of 17.37% ranks better than 76.5% of companies in the Semiconductors industry.\n",
      "\n",
      "However, growth is a crucial factor in a company's valuation. NVIDIA's growth ranks worse than 52.99% of companies in the Semiconductors industry, with its 3-year average revenue growth rate better than 87.88% of companies in the industry.\n",
      "\n",
      "ROIC vs WACC\n",
      "Comparing a company's return on invested capital (ROIC) to its weighted average cost of capital (WACC) is an effective way to evaluate its profitability. Over the past 12 months, NVIDIA's ROIC was 20.32 while its WACC was 16.74, suggesting that the company is creating value for its shareholders.\n",
      "\n",
      "Is NVIDIA's Stock Significantly Overvalued? A Comprehensive Valuation Analysis\n",
      "Is NVIDIA's Stock Significantly Overvalued? A Comprehensive Valuation Analysis\n",
      "Conclusion\n",
      "In conclusion, NVIDIA (NASDAQ:NVDA) appears to be significantly overvalued. Despite its strong financial condition and profitability, its growth ranks lower than 52.99% of companies in the Semiconductors industry. To learn more about NVIDIA stock, you can check out its 30-Year Financials here.\n",
      "\n",
      "To find out the high quality companies that may deliver above-average returns, please check out GuruFocus High Quality Low Capex Screener.\n",
      "\n",
      "This article first appeared on GuruFocus.\n"
     ]
    }
   ],
   "source": [
    "#Test TextLoader on .txt file\n",
    "loader = TextLoader(\"nvda_news_1.txt\")\n",
    "data = loader.load()\n",
    "print(data[0].metadata, '\\n')\n",
    "print(data[0].page_content)"
   ]
  },
  {
   "cell_type": "code",
   "execution_count": 24,
   "id": "bf0b1788-10dc-4406-8bfa-b86ec4b1fc8c",
   "metadata": {},
   "outputs": [
    {
     "name": "stdout",
     "output_type": "stream",
     "text": [
      "Collecting unstructured\n",
      "  Downloading unstructured-0.14.3-py3-none-any.whl.metadata (31 kB)\n",
      "Collecting libmagic\n",
      "  Downloading libmagic-1.0.tar.gz (3.7 kB)\n",
      "  Installing build dependencies ... \u001b[?25ldone\n",
      "\u001b[?25h  Getting requirements to build wheel ... \u001b[?25ldone\n",
      "\u001b[?25h  Installing backend dependencies ... \u001b[?25ldone\n",
      "\u001b[?25h  Preparing metadata (pyproject.toml) ... \u001b[?25ldone\n",
      "\u001b[?25hCollecting python-magic\n",
      "  Downloading python_magic-0.4.27-py2.py3-none-any.whl.metadata (5.8 kB)\n",
      "\u001b[31mERROR: Ignored the following versions that require a different python version: 0.12.0 Requires-Python >=3.9.0,<3.12; 0.12.2 Requires-Python >=3.9.0,<3.12; 0.12.3 Requires-Python >=3.9.0,<3.12; 0.12.4 Requires-Python >=3.9.0,<3.12; 0.12.5 Requires-Python >=3.9.0,<3.12; 0.12.6 Requires-Python >=3.9.0,<3.12; 0.13.0 Requires-Python <3.12,>=3.9.0; 0.13.1 Requires-Python <3.12,>=3.9.0; 0.13.2 Requires-Python <3.12,>=3.9.0; 0.13.3 Requires-Python <3.12,>=3.9.0; 0.13.4 Requires-Python <3.12,>=3.9.0; 0.13.5 Requires-Python <3.12,>=3.9.0; 0.13.6 Requires-Python <3.12,>=3.9.0; 0.13.7 Requires-Python <3.12,>=3.9.0; 0.14.0 Requires-Python <3.12,>=3.9.0\u001b[0m\u001b[31m\n",
      "\u001b[0m\u001b[31mERROR: Could not find a version that satisfies the requirement python-magic-bin (from versions: none)\u001b[0m\u001b[31m\n",
      "\u001b[0m\u001b[31mERROR: No matching distribution found for python-magic-bin\u001b[0m\u001b[31m\n",
      "\u001b[0m"
     ]
    }
   ],
   "source": [
    "#URL loader\n",
    "!pip3 install unstructured libmagic python-magic python-magic-bin"
   ]
  },
  {
   "cell_type": "code",
   "execution_count": 26,
   "id": "34dfdbe0-0807-4140-94bc-53a1101b2334",
   "metadata": {},
   "outputs": [],
   "source": [
    "from langchain.document_loaders import UnstructuredURLLoader"
   ]
  },
  {
   "cell_type": "code",
   "execution_count": 38,
   "id": "85b642a5-20e0-4dde-8e95-0eb207c1c716",
   "metadata": {},
   "outputs": [],
   "source": [
    "loader = UnstructuredURLLoader(urls=[\n",
    "    \"https://www.bloomberg.com/news/articles/2024-05-31/nordstrom-jwn-loyalty-memberships-drive-deeper-quarterly-loss?srnd=industries-v2\",\n",
    "    \"https://www.bloomberg.com/news/articles/2024-05-30/foot-locker-turnaround-shows-signs-of-life-as-sales-stabilize?srnd=industries-v2\"\n",
    "])"
   ]
  },
  {
   "cell_type": "code",
   "execution_count": 42,
   "id": "d8195e59-5fc3-4f31-b581-aac3ed5d8758",
   "metadata": {},
   "outputs": [
    {
     "data": {
      "text/plain": [
       "Document(page_content=\"Bloomberg\\n\\nNeed help? Contact us\\n\\nWe've detected unusual activity from your computer network\\n\\nTo continue, please click the box below to let us know you're not a robot.\\n\\nWhy did this happen?\\n\\nPlease make sure your browser supports JavaScript and cookies and that you are not\\n            blocking them from loading.\\n            For more information you can review our Terms of\\n                Service and Cookie Policy.\\n\\nNeed Help?\\n\\nFor inquiries related to this message please contact\\n            our support team and provide the reference ID below.\\n\\nBlock reference ID:\", metadata={'source': 'https://www.bloomberg.com/news/articles/2024-05-31/nordstrom-jwn-loyalty-memberships-drive-deeper-quarterly-loss?srnd=industries-v2'})"
      ]
     },
     "execution_count": 42,
     "metadata": {},
     "output_type": "execute_result"
    }
   ],
   "source": [
    "data = loader.load()\n",
    "len(data)\n",
    "data[0]"
   ]
  },
  {
   "cell_type": "markdown",
   "id": "184eb485-360f-4068-9440-164cc21147e3",
   "metadata": {},
   "source": [
    "## **2. Text Splitting**"
   ]
  },
  {
   "cell_type": "markdown",
   "id": "3605a200-48a2-4730-8eeb-82a647a8b0d3",
   "metadata": {},
   "source": [
    "#### **Reducing articles into relevant chunks to prevent token overuse**"
   ]
  },
  {
   "cell_type": "code",
   "execution_count": 50,
   "id": "4e9bc853-0e49-4875-86a9-851f31f4444c",
   "metadata": {
    "editable": true,
    "slideshow": {
     "slide_type": ""
    },
    "tags": []
   },
   "outputs": [
    {
     "name": "stderr",
     "output_type": "stream",
     "text": [
      "Created a chunk of size 422, which is longer than the specified 200\n"
     ]
    },
    {
     "data": {
      "text/plain": [
       "['Nvidia blasted higher after smashing targets on May 22. Shares shot past the 1,000 mark as the stock flew right out of buy range. At the same time, Google stock continues its return to glory, clearing is most recent entry, a 153.78 buy point. Like Nvidia, Alphabet trades right around a record high.Like Nvidia and Alphabet, fellow Magnificent Seven stock Microsoft remains within striking distance of its own record high.',\n",
       " \"Meanwhile, Tesla stock gapped up after reporting earnings on April 23. But the EV maker has given back much of those gains, although it remains above its 50-day line.In addition to monitoring IBD's recommended market exposure level, regularly checking names on lists like the IBD 50, IBD Long-Term Leaders and IBD Sector Leaders provides a good starting point for finding and evaluating potential stock picks. Each day, you can also see which stocks just came on or off these lists.\"]"
      ]
     },
     "execution_count": 50,
     "metadata": {},
     "output_type": "execute_result"
    }
   ],
   "source": [
    "from langchain.text_splitter import CharacterTextSplitter\n",
    "\n",
    "splitter = CharacterTextSplitter(\n",
    "    separator=\"\\n\",\n",
    "    chunk_size=200,\n",
    "    chunk_overlap=0\n",
    ")\n",
    "\n",
    "#Test splitter\n",
    "text = \"\"\"Nvidia blasted higher after smashing targets on May 22. Shares shot past the 1,000 mark as the stock flew right out of buy range. At the same time, Google stock continues its return to glory, clearing is most recent entry, a 153.78 buy point. Like Nvidia, Alphabet trades right around a record high.Like Nvidia and Alphabet, fellow Magnificent Seven stock Microsoft remains within striking distance of its own record high.\n",
    "\n",
    "Meanwhile, Tesla stock gapped up after reporting earnings on April 23. But the EV maker has given back much of those gains, although it remains above its 50-day line.In addition to monitoring IBD's recommended market exposure level, regularly checking names on lists like the IBD 50, IBD Long-Term Leaders and IBD Sector Leaders provides a good starting point for finding and evaluating potential stock picks. Each day, you can also see which stocks just came on or off these lists. \"\"\"\n",
    "\n",
    "chunks = splitter.split_text(text)\n",
    "len(chunks)\n",
    "chunks"
   ]
  },
  {
   "cell_type": "code",
   "execution_count": 57,
   "id": "a092e142-c8a1-4081-947c-f32602b78cca",
   "metadata": {},
   "outputs": [
    {
     "data": {
      "text/plain": [
       "['Nvidia blasted higher after smashing targets on May 22. Shares shot past the 1,000 mark as the stock flew right out of buy range. At the same time, Google stock continues its return to glory, clearing',\n",
       " 'is most recent entry, a 153.78 buy point. Like Nvidia, Alphabet trades right around a record high.Like Nvidia and Alphabet, fellow Magnificent Seven stock Microsoft remains within striking distance',\n",
       " 'of its own record high.',\n",
       " \"Meanwhile, Tesla stock gapped up after reporting earnings on April 23. But the EV maker has given back much of those gains, although it remains above its 50-day line.In addition to monitoring IBD's\",\n",
       " 'recommended market exposure level, regularly checking names on lists like the IBD 50, IBD Long-Term Leaders and IBD Sector Leaders provides a good starting point for finding and evaluating potential',\n",
       " 'stock picks. Each day, you can also see which stocks just came on or off these lists.']"
      ]
     },
     "execution_count": 57,
     "metadata": {},
     "output_type": "execute_result"
    }
   ],
   "source": [
    "#Use Recursive Splitter to allow multiple separators\n",
    "from langchain.text_splitter import RecursiveCharacterTextSplitter\n",
    "rsplitter = RecursiveCharacterTextSplitter(\n",
    "    separators = [\"\\n\\n\", \"\\n\", \" \"],\n",
    "    chunk_size=200,\n",
    "    chunk_overlap=0\n",
    ")\n",
    "\n",
    "chunks = rsplitter.split_text(text)\n",
    "chunks"
   ]
  },
  {
   "cell_type": "markdown",
   "id": "5cdae2b7-f08a-4464-be2d-fa74c23eeb61",
   "metadata": {},
   "source": [
    "## **3. Vector Database**"
   ]
  },
  {
   "cell_type": "markdown",
   "id": "d2a41261-af8b-4514-99d0-8ae64ebbd150",
   "metadata": {},
   "source": [
    "#### **Convert chunks of text into embeddings**"
   ]
  },
  {
   "cell_type": "code",
   "execution_count": 62,
   "id": "d3e95668-fa4a-43b5-9c2d-d60da0bce140",
   "metadata": {
    "scrolled": true
   },
   "outputs": [
    {
     "name": "stdout",
     "output_type": "stream",
     "text": [
      "Collecting faiss-cpu\n",
      "  Downloading faiss_cpu-1.8.0-cp312-cp312-macosx_11_0_arm64.whl.metadata (3.6 kB)\n",
      "Requirement already satisfied: numpy in /opt/homebrew/lib/python3.12/site-packages (from faiss-cpu) (1.26.4)\n",
      "Downloading faiss_cpu-1.8.0-cp312-cp312-macosx_11_0_arm64.whl (3.1 MB)\n",
      "\u001b[2K   \u001b[90m━━━━━━━━━━━━━━━━━━━━━━━━━━━━━━━━━━━━━━━━\u001b[0m \u001b[32m3.1/3.1 MB\u001b[0m \u001b[31m20.5 MB/s\u001b[0m eta \u001b[36m0:00:00\u001b[0ma \u001b[36m0:00:01\u001b[0m\n",
      "\u001b[?25hInstalling collected packages: faiss-cpu\n",
      "Successfully installed faiss-cpu-1.8.0\n",
      "Collecting sentence-transformers\n",
      "  Downloading sentence_transformers-3.0.0-py3-none-any.whl.metadata (10 kB)\n",
      "Collecting transformers<5.0.0,>=4.34.0 (from sentence-transformers)\n",
      "  Downloading transformers-4.41.2-py3-none-any.whl.metadata (43 kB)\n",
      "\u001b[2K     \u001b[90m━━━━━━━━━━━━━━━━━━━━━━━━━━━━━━━━━━━━━━━━\u001b[0m \u001b[32m43.8/43.8 kB\u001b[0m \u001b[31m1.7 MB/s\u001b[0m eta \u001b[36m0:00:00\u001b[0m\n",
      "\u001b[?25hRequirement already satisfied: tqdm in /opt/homebrew/lib/python3.12/site-packages (from sentence-transformers) (4.66.4)\n",
      "Collecting torch>=1.11.0 (from sentence-transformers)\n",
      "  Downloading torch-2.3.0-cp312-none-macosx_11_0_arm64.whl.metadata (26 kB)\n",
      "Requirement already satisfied: numpy in /opt/homebrew/lib/python3.12/site-packages (from sentence-transformers) (1.26.4)\n",
      "Collecting scikit-learn (from sentence-transformers)\n",
      "  Downloading scikit_learn-1.5.0-cp312-cp312-macosx_12_0_arm64.whl.metadata (11 kB)\n",
      "Collecting scipy (from sentence-transformers)\n",
      "  Downloading scipy-1.13.1-cp312-cp312-macosx_12_0_arm64.whl.metadata (60 kB)\n",
      "\u001b[2K     \u001b[90m━━━━━━━━━━━━━━━━━━━━━━━━━━━━━━━━━━━━━━━━\u001b[0m \u001b[32m60.6/60.6 kB\u001b[0m \u001b[31m5.6 MB/s\u001b[0m eta \u001b[36m0:00:00\u001b[0m\n",
      "\u001b[?25hCollecting huggingface-hub>=0.15.1 (from sentence-transformers)\n",
      "  Downloading huggingface_hub-0.23.2-py3-none-any.whl.metadata (12 kB)\n",
      "Requirement already satisfied: Pillow in /opt/homebrew/lib/python3.12/site-packages (from sentence-transformers) (10.3.0)\n",
      "Collecting filelock (from huggingface-hub>=0.15.1->sentence-transformers)\n",
      "  Downloading filelock-3.14.0-py3-none-any.whl.metadata (2.8 kB)\n",
      "Collecting fsspec>=2023.5.0 (from huggingface-hub>=0.15.1->sentence-transformers)\n",
      "  Using cached fsspec-2024.5.0-py3-none-any.whl.metadata (11 kB)\n",
      "Requirement already satisfied: packaging>=20.9 in /opt/homebrew/lib/python3.12/site-packages (from huggingface-hub>=0.15.1->sentence-transformers) (23.2)\n",
      "Requirement already satisfied: pyyaml>=5.1 in /opt/homebrew/lib/python3.12/site-packages (from huggingface-hub>=0.15.1->sentence-transformers) (6.0.1)\n",
      "Requirement already satisfied: requests in /opt/homebrew/lib/python3.12/site-packages (from huggingface-hub>=0.15.1->sentence-transformers) (2.32.3)\n",
      "Requirement already satisfied: typing-extensions>=3.7.4.3 in /opt/homebrew/lib/python3.12/site-packages (from huggingface-hub>=0.15.1->sentence-transformers) (4.11.0)\n",
      "Collecting sympy (from torch>=1.11.0->sentence-transformers)\n",
      "  Downloading sympy-1.12.1-py3-none-any.whl.metadata (12 kB)\n",
      "Collecting networkx (from torch>=1.11.0->sentence-transformers)\n",
      "  Downloading networkx-3.3-py3-none-any.whl.metadata (5.1 kB)\n",
      "Requirement already satisfied: jinja2 in /opt/homebrew/lib/python3.12/site-packages (from torch>=1.11.0->sentence-transformers) (3.1.4)\n",
      "Requirement already satisfied: regex!=2019.12.17 in /opt/homebrew/lib/python3.12/site-packages (from transformers<5.0.0,>=4.34.0->sentence-transformers) (2024.5.15)\n",
      "Collecting tokenizers<0.20,>=0.19 (from transformers<5.0.0,>=4.34.0->sentence-transformers)\n",
      "  Downloading tokenizers-0.19.1-cp312-cp312-macosx_11_0_arm64.whl.metadata (6.7 kB)\n",
      "Collecting safetensors>=0.4.1 (from transformers<5.0.0,>=4.34.0->sentence-transformers)\n",
      "  Downloading safetensors-0.4.3-cp312-cp312-macosx_11_0_arm64.whl.metadata (3.8 kB)\n",
      "Requirement already satisfied: joblib>=1.2.0 in /opt/homebrew/lib/python3.12/site-packages (from scikit-learn->sentence-transformers) (1.4.2)\n",
      "Collecting threadpoolctl>=3.1.0 (from scikit-learn->sentence-transformers)\n",
      "  Using cached threadpoolctl-3.5.0-py3-none-any.whl.metadata (13 kB)\n",
      "Requirement already satisfied: MarkupSafe>=2.0 in /opt/homebrew/lib/python3.12/site-packages (from jinja2->torch>=1.11.0->sentence-transformers) (2.1.5)\n",
      "Requirement already satisfied: charset-normalizer<4,>=2 in /opt/homebrew/lib/python3.12/site-packages (from requests->huggingface-hub>=0.15.1->sentence-transformers) (3.3.2)\n",
      "Requirement already satisfied: idna<4,>=2.5 in /opt/homebrew/lib/python3.12/site-packages (from requests->huggingface-hub>=0.15.1->sentence-transformers) (3.7)\n",
      "Requirement already satisfied: urllib3<3,>=1.21.1 in /opt/homebrew/lib/python3.12/site-packages (from requests->huggingface-hub>=0.15.1->sentence-transformers) (2.2.1)\n",
      "Requirement already satisfied: certifi>=2017.4.17 in /opt/homebrew/lib/python3.12/site-packages (from requests->huggingface-hub>=0.15.1->sentence-transformers) (2024.2.2)\n",
      "Collecting mpmath<1.4.0,>=1.1.0 (from sympy->torch>=1.11.0->sentence-transformers)\n",
      "  Downloading mpmath-1.3.0-py3-none-any.whl.metadata (8.6 kB)\n",
      "Downloading sentence_transformers-3.0.0-py3-none-any.whl (224 kB)\n",
      "\u001b[2K   \u001b[90m━━━━━━━━━━━━━━━━━━━━━━━━━━━━━━━━━━━━━━━━\u001b[0m \u001b[32m224.7/224.7 kB\u001b[0m \u001b[31m6.0 MB/s\u001b[0m eta \u001b[36m0:00:00\u001b[0ma \u001b[36m0:00:01\u001b[0m\n",
      "\u001b[?25hDownloading huggingface_hub-0.23.2-py3-none-any.whl (401 kB)\n",
      "\u001b[2K   \u001b[90m━━━━━━━━━━━━━━━━━━━━━━━━━━━━━━━━━━━━━━━━\u001b[0m \u001b[32m401.7/401.7 kB\u001b[0m \u001b[31m14.9 MB/s\u001b[0m eta \u001b[36m0:00:00\u001b[0m\n",
      "\u001b[?25hDownloading torch-2.3.0-cp312-none-macosx_11_0_arm64.whl (61.0 MB)\n",
      "\u001b[2K   \u001b[90m━━━━━━━━━━━━━━━━━━━━━━━━━━━━━━━━━━━━━━━━\u001b[0m \u001b[32m61.0/61.0 MB\u001b[0m \u001b[31m32.9 MB/s\u001b[0m eta \u001b[36m0:00:00\u001b[0m00:01\u001b[0m00:01\u001b[0m\n",
      "\u001b[?25hDownloading transformers-4.41.2-py3-none-any.whl (9.1 MB)\n",
      "\u001b[2K   \u001b[90m━━━━━━━━━━━━━━━━━━━━━━━━━━━━━━━━━━━━━━━━\u001b[0m \u001b[32m9.1/9.1 MB\u001b[0m \u001b[31m42.8 MB/s\u001b[0m eta \u001b[36m0:00:00\u001b[0m00:01\u001b[0m00:01\u001b[0m\n",
      "\u001b[?25hDownloading scikit_learn-1.5.0-cp312-cp312-macosx_12_0_arm64.whl (11.0 MB)\n",
      "\u001b[2K   \u001b[90m━━━━━━━━━━━━━━━━━━━━━━━━━━━━━━━━━━━━━━━━\u001b[0m \u001b[32m11.0/11.0 MB\u001b[0m \u001b[31m35.2 MB/s\u001b[0m eta \u001b[36m0:00:00\u001b[0m00:01\u001b[0m0:01\u001b[0m\n",
      "\u001b[?25hDownloading scipy-1.13.1-cp312-cp312-macosx_12_0_arm64.whl (30.4 MB)\n",
      "\u001b[2K   \u001b[90m━━━━━━━━━━━━━━━━━━━━━━━━━━━━━━━━━━━━━━━━\u001b[0m \u001b[32m30.4/30.4 MB\u001b[0m \u001b[31m33.5 MB/s\u001b[0m eta \u001b[36m0:00:00\u001b[0m00:01\u001b[0m00:01\u001b[0m\n",
      "\u001b[?25hUsing cached fsspec-2024.5.0-py3-none-any.whl (316 kB)\n",
      "Downloading safetensors-0.4.3-cp312-cp312-macosx_11_0_arm64.whl (411 kB)\n",
      "\u001b[2K   \u001b[90m━━━━━━━━━━━━━━━━━━━━━━━━━━━━━━━━━━━━━━━━\u001b[0m \u001b[32m411.1/411.1 kB\u001b[0m \u001b[31m24.2 MB/s\u001b[0m eta \u001b[36m0:00:00\u001b[0m\n",
      "\u001b[?25hUsing cached threadpoolctl-3.5.0-py3-none-any.whl (18 kB)\n",
      "Downloading tokenizers-0.19.1-cp312-cp312-macosx_11_0_arm64.whl (2.4 MB)\n",
      "\u001b[2K   \u001b[90m━━━━━━━━━━━━━━━━━━━━━━━━━━━━━━━━━━━━━━━━\u001b[0m \u001b[32m2.4/2.4 MB\u001b[0m \u001b[31m34.8 MB/s\u001b[0m eta \u001b[36m0:00:00\u001b[0ma \u001b[36m0:00:01\u001b[0m\n",
      "\u001b[?25hDownloading filelock-3.14.0-py3-none-any.whl (12 kB)\n",
      "Downloading networkx-3.3-py3-none-any.whl (1.7 MB)\n",
      "\u001b[2K   \u001b[90m━━━━━━━━━━━━━━━━━━━━━━━━━━━━━━━━━━━━━━━━\u001b[0m \u001b[32m1.7/1.7 MB\u001b[0m \u001b[31m33.0 MB/s\u001b[0m eta \u001b[36m0:00:00\u001b[0m00:01\u001b[0m\n",
      "\u001b[?25hDownloading sympy-1.12.1-py3-none-any.whl (5.7 MB)\n",
      "\u001b[2K   \u001b[90m━━━━━━━━━━━━━━━━━━━━━━━━━━━━━━━━━━━━━━━━\u001b[0m \u001b[32m5.7/5.7 MB\u001b[0m \u001b[31m39.8 MB/s\u001b[0m eta \u001b[36m0:00:00\u001b[0ma \u001b[36m0:00:01\u001b[0m\n",
      "\u001b[?25hDownloading mpmath-1.3.0-py3-none-any.whl (536 kB)\n",
      "\u001b[2K   \u001b[90m━━━━━━━━━━━━━━━━━━━━━━━━━━━━━━━━━━━━━━━━\u001b[0m \u001b[32m536.2/536.2 kB\u001b[0m \u001b[31m31.7 MB/s\u001b[0m eta \u001b[36m0:00:00\u001b[0m\n",
      "\u001b[?25hInstalling collected packages: mpmath, threadpoolctl, sympy, scipy, safetensors, networkx, fsspec, filelock, torch, scikit-learn, huggingface-hub, tokenizers, transformers, sentence-transformers\n",
      "Successfully installed filelock-3.14.0 fsspec-2024.5.0 huggingface-hub-0.23.2 mpmath-1.3.0 networkx-3.3 safetensors-0.4.3 scikit-learn-1.5.0 scipy-1.13.1 sentence-transformers-3.0.0 sympy-1.12.1 threadpoolctl-3.5.0 tokenizers-0.19.1 torch-2.3.0 transformers-4.41.2\n"
     ]
    }
   ],
   "source": [
    "!pip3 install faiss-cpu\n",
    "!pip3 install sentence-transformers"
   ]
  },
  {
   "cell_type": "code",
   "execution_count": 64,
   "id": "bbadd835-7172-44f8-8b3e-6e3402253d80",
   "metadata": {},
   "outputs": [
    {
     "data": {
      "text/html": [
       "<div>\n",
       "<style scoped>\n",
       "    .dataframe tbody tr th:only-of-type {\n",
       "        vertical-align: middle;\n",
       "    }\n",
       "\n",
       "    .dataframe tbody tr th {\n",
       "        vertical-align: top;\n",
       "    }\n",
       "\n",
       "    .dataframe thead th {\n",
       "        text-align: right;\n",
       "    }\n",
       "</style>\n",
       "<table border=\"1\" class=\"dataframe\">\n",
       "  <thead>\n",
       "    <tr style=\"text-align: right;\">\n",
       "      <th></th>\n",
       "      <th>text</th>\n",
       "      <th>category</th>\n",
       "    </tr>\n",
       "  </thead>\n",
       "  <tbody>\n",
       "    <tr>\n",
       "      <th>0</th>\n",
       "      <td>Meditation and yoga can improve mental health</td>\n",
       "      <td>Health</td>\n",
       "    </tr>\n",
       "    <tr>\n",
       "      <th>1</th>\n",
       "      <td>Fruits, whole grains and vegetables helps control blood pressure</td>\n",
       "      <td>Health</td>\n",
       "    </tr>\n",
       "    <tr>\n",
       "      <th>2</th>\n",
       "      <td>These are the latest fashion trends for this week</td>\n",
       "      <td>Fashion</td>\n",
       "    </tr>\n",
       "    <tr>\n",
       "      <th>3</th>\n",
       "      <td>Vibrant color jeans for male are becoming a trend</td>\n",
       "      <td>Fashion</td>\n",
       "    </tr>\n",
       "    <tr>\n",
       "      <th>4</th>\n",
       "      <td>The concert starts at 7 PM tonight</td>\n",
       "      <td>Event</td>\n",
       "    </tr>\n",
       "    <tr>\n",
       "      <th>5</th>\n",
       "      <td>Navaratri dandiya program at Expo center in Mumbai this october</td>\n",
       "      <td>Event</td>\n",
       "    </tr>\n",
       "    <tr>\n",
       "      <th>6</th>\n",
       "      <td>Exciting vacation destinations for your next trip</td>\n",
       "      <td>Travel</td>\n",
       "    </tr>\n",
       "    <tr>\n",
       "      <th>7</th>\n",
       "      <td>Maldives and Srilanka are gaining popularity in terms of low budget vacation places</td>\n",
       "      <td>Travel</td>\n",
       "    </tr>\n",
       "  </tbody>\n",
       "</table>\n",
       "</div>"
      ],
      "text/plain": [
       "                                                                                  text  \\\n",
       "0                                        Meditation and yoga can improve mental health   \n",
       "1                     Fruits, whole grains and vegetables helps control blood pressure   \n",
       "2                                    These are the latest fashion trends for this week   \n",
       "3                                    Vibrant color jeans for male are becoming a trend   \n",
       "4                                                   The concert starts at 7 PM tonight   \n",
       "5                      Navaratri dandiya program at Expo center in Mumbai this october   \n",
       "6                                    Exciting vacation destinations for your next trip   \n",
       "7  Maldives and Srilanka are gaining popularity in terms of low budget vacation places   \n",
       "\n",
       "  category  \n",
       "0   Health  \n",
       "1   Health  \n",
       "2  Fashion  \n",
       "3  Fashion  \n",
       "4    Event  \n",
       "5    Event  \n",
       "6   Travel  \n",
       "7   Travel  "
      ]
     },
     "execution_count": 64,
     "metadata": {},
     "output_type": "execute_result"
    }
   ],
   "source": [
    "import pandas as pd\n",
    "\n",
    "pd.set_option('display.max_colwidth', 100)\n",
    "df = pd.read_csv(\"sample_text.csv\")\n",
    "df"
   ]
  },
  {
   "cell_type": "code",
   "execution_count": 67,
   "id": "f2d0a244-789c-4108-ab2e-fb49444013f5",
   "metadata": {},
   "outputs": [
    {
     "data": {
      "text/plain": [
       "768"
      ]
     },
     "execution_count": 67,
     "metadata": {},
     "output_type": "execute_result"
    }
   ],
   "source": [
    "from sentence_transformers import SentenceTransformer\n",
    "\n",
    "encoder = SentenceTransformer(\"all-mpnet-base-v2\")\n",
    "vectors = encoder.encode(df.text)\n",
    "vectors.shape\n",
    "dim = vectors.shape[1]\n",
    "dim"
   ]
  },
  {
   "cell_type": "markdown",
   "id": "fed1825a-ff46-4dca-811f-719b9a76e2b9",
   "metadata": {},
   "source": [
    "#### **Store embeddings in FAISS (Facebook AI Similarity Search) Index**"
   ]
  },
  {
   "cell_type": "code",
   "execution_count": 69,
   "id": "0a0656d2-039f-4564-91e3-cc251259aead",
   "metadata": {},
   "outputs": [],
   "source": [
    "import faiss\n",
    "index = faiss.IndexFlatL2(dim)\n",
    "index\n",
    "index.add(vectors)"
   ]
  },
  {
   "cell_type": "code",
   "execution_count": 71,
   "id": "7746d16e-74a2-4a5d-a890-ceb6c24d8352",
   "metadata": {},
   "outputs": [
    {
     "data": {
      "text/plain": [
       "(1, 768)"
      ]
     },
     "execution_count": 71,
     "metadata": {},
     "output_type": "execute_result"
    }
   ],
   "source": [
    "search_query = \"I want to buy a polo t-shirt\"\n",
    "vec = encoder.encode(search_query)\n",
    "vec.shape # (768,)\n",
    "import numpy as np\n",
    "search_vector = np.array(vec).reshape(1,-1) #Turn vector into 2d array\n",
    "search_vector.shape"
   ]
  },
  {
   "cell_type": "code",
   "execution_count": 73,
   "id": "944e1fe3-4fb8-446c-bdf0-cb75e04f3eba",
   "metadata": {},
   "outputs": [
    {
     "data": {
      "text/plain": [
       "array([[3, 2]])"
      ]
     },
     "execution_count": 73,
     "metadata": {},
     "output_type": "execute_result"
    }
   ],
   "source": [
    "distances, I = index.search(search_vector, k = 2)\n",
    "I"
   ]
  },
  {
   "cell_type": "code",
   "execution_count": 76,
   "id": "f7c36e80-4f2f-4482-a915-46bc93d368d0",
   "metadata": {},
   "outputs": [
    {
     "data": {
      "text/html": [
       "<div>\n",
       "<style scoped>\n",
       "    .dataframe tbody tr th:only-of-type {\n",
       "        vertical-align: middle;\n",
       "    }\n",
       "\n",
       "    .dataframe tbody tr th {\n",
       "        vertical-align: top;\n",
       "    }\n",
       "\n",
       "    .dataframe thead th {\n",
       "        text-align: right;\n",
       "    }\n",
       "</style>\n",
       "<table border=\"1\" class=\"dataframe\">\n",
       "  <thead>\n",
       "    <tr style=\"text-align: right;\">\n",
       "      <th></th>\n",
       "      <th>text</th>\n",
       "      <th>category</th>\n",
       "    </tr>\n",
       "  </thead>\n",
       "  <tbody>\n",
       "    <tr>\n",
       "      <th>3</th>\n",
       "      <td>Vibrant color jeans for male are becoming a trend</td>\n",
       "      <td>Fashion</td>\n",
       "    </tr>\n",
       "    <tr>\n",
       "      <th>2</th>\n",
       "      <td>These are the latest fashion trends for this week</td>\n",
       "      <td>Fashion</td>\n",
       "    </tr>\n",
       "  </tbody>\n",
       "</table>\n",
       "</div>"
      ],
      "text/plain": [
       "                                                text category\n",
       "3  Vibrant color jeans for male are becoming a trend  Fashion\n",
       "2  These are the latest fashion trends for this week  Fashion"
      ]
     },
     "execution_count": 76,
     "metadata": {},
     "output_type": "execute_result"
    }
   ],
   "source": [
    "df.loc[I[0]]"
   ]
  },
  {
   "cell_type": "markdown",
   "id": "cf6da92b-80e1-4d01-8485-fa5d40d3f687",
   "metadata": {},
   "source": [
    "# OPENAI Integration"
   ]
  },
  {
   "cell_type": "markdown",
   "id": "5a218070-ee4d-4649-92cf-a86090b15f37",
   "metadata": {},
   "source": [
    "#### **Initialize LLM**"
   ]
  },
  {
   "cell_type": "code",
   "execution_count": 82,
   "id": "1ea7de16-aa77-4ca3-9fbd-3f81a4dfe421",
   "metadata": {},
   "outputs": [],
   "source": [
    "import os\n",
    "import streamlit as st\n",
    "import pickle\n",
    "import time\n",
    "import langchain\n",
    "from langchain import OpenAI\n",
    "from langchain.chains import RetrievalQAWithSourcesChain\n",
    "from langchain.chains.qa_with_sources.loading import load_qa_with_sources_chain\n",
    "from langchain.text_splitter import RecursiveCharacterTextSplitter\n",
    "from langchain.document_loaders import UnstructuredURLLoader\n",
    "from langchain.embeddings import OpenAIEmbeddings\n",
    "from langchain.vectorstores import FAISS"
   ]
  },
  {
   "cell_type": "code",
   "execution_count": 83,
   "id": "5a8dcb4f-0841-4655-9c4d-1a45f4303839",
   "metadata": {},
   "outputs": [],
   "source": [
    "os.environ['OPENAI_API_KEY'] = 'your_openai_api_key_here'"
   ]
  },
  {
   "cell_type": "code",
   "execution_count": 96,
   "id": "71735705-6ee8-48bc-af3a-293a4767e6de",
   "metadata": {},
   "outputs": [
    {
     "data": {
      "text/plain": [
       "2"
      ]
     },
     "execution_count": 96,
     "metadata": {},
     "output_type": "execute_result"
    }
   ],
   "source": [
    "llm = OpenAI(temperature=0.9, max_tokens=500)\n",
    "loader = UnstructuredURLLoader(urls=[\n",
    "    \"https://en.wikipedia.org/wiki/List_of_mergers_and_acquisitions_by_Apple\",\n",
    "    \"https://en.wikipedia.org/wiki/Tesla,_Inc.\"\n",
    "])\n",
    "data = loader.load()\n",
    "len(data)"
   ]
  },
  {
   "cell_type": "code",
   "execution_count": 107,
   "id": "ae86ccab-ea6d-4574-a7a3-6a687bc08c73",
   "metadata": {},
   "outputs": [
    {
     "name": "stdout",
     "output_type": "stream",
     "text": [
      "^ \"Apple acquires digital magazine startup Prss\". The Next Web. September 23, 2014. Retrieved September 24, 2014.\n",
      "\n",
      "^ \"Apple Acquired Prss in 2014 and today their Invention that became 'Apple News' was Published by USPTO\". Patently Apple. Retrieved November 23, 2017.\n",
      "\n",
      "^ \"Apple Quietly Bought Dryft, A Keyboard App\". TechCrunch. April 8, 2015.\n",
      "\n",
      "^ \"Apple has acquired London music production software company Camel Audio\". Business Insider. February 24, 2015.\n",
      "\n",
      "^ \"Apple buys the British startup behind music analytics service Musicmetric\". The Wall Street Journal. January 21, 2015.\n",
      "\n",
      "^ \"Apple buys UK music start-up Semetric\". The Telegraph.\n",
      "\n",
      "^ \"Apple Acquires Durable Database Company FoundationDB\". TechCrunch. March 24, 2015.\n",
      "\n",
      "^ \"Apple Buys Israeli Camera-Technology Company LinX\". The Wall Street Journal. April 14, 2015.\n",
      "\n",
      "^ \"Apple bought a company focused on super-accurate GPS\". Engadget. May 17, 2015.\n",
      "\n",
      "^ \"Apple Acquires Augmented Reality Company Metaio\". TechCrunch. May 28, 2015.\n"
     ]
    }
   ],
   "source": [
    "splitter = RecursiveCharacterTextSplitter(\n",
    "    chunk_size=1000,\n",
    "    chunk_overlap=200\n",
    ")\n",
    "\n",
    "docs = splitter.split_documents(data)\n",
    "len(docs)\n",
    "print(docs[38].page_content)"
   ]
  },
  {
   "cell_type": "code",
   "execution_count": 120,
   "id": "8565323b-2fc0-4eeb-8ec2-36eac6aab889",
   "metadata": {},
   "outputs": [],
   "source": [
    "embeddings = OpenAIEmbeddings()\n",
    "vectorindex_openai = FAISS.from_documents(docs, embeddings)"
   ]
  },
  {
   "cell_type": "code",
   "execution_count": 121,
   "id": "71ea15e9-31e1-46de-8801-29a58bcaf1de",
   "metadata": {},
   "outputs": [],
   "source": [
    "#Store vector index in local file\n",
    "file_path=\"vector_index.faiss\"\n",
    "#with open(file_path, \"wb\") as f:\n",
    "#    pickle.dump(vectorindex_openai, f)\n",
    "faiss.write_index(vectorindex_openai.index, file_path)"
   ]
  },
  {
   "cell_type": "code",
   "execution_count": 124,
   "id": "1bbbae48-fc93-4633-9b82-5ef4517483ff",
   "metadata": {},
   "outputs": [],
   "source": [
    "if os.path.exists(file_path):\n",
    "    #with open(file_path, \"rb\") as f:\n",
    "        #vectorIndex = pickle.load(f)\n",
    "    vectorindex_openai = FAISS.from_documents(docs, embeddings)\n",
    "    vectorindex_openai.index = faiss.read_index(file_path)\n",
    "else:\n",
    "    print(f\"Index file not found: {file_path}\")"
   ]
  },
  {
   "cell_type": "code",
   "execution_count": 129,
   "id": "31f6a394-d050-4452-a7bc-50a38fc5fc5b",
   "metadata": {
    "scrolled": true
   },
   "outputs": [
    {
     "data": {
      "text/plain": [
       "RetrievalQAWithSourcesChain(combine_documents_chain=MapReduceDocumentsChain(llm_chain=LLMChain(prompt=PromptTemplate(input_variables=['context', 'question'], template='Use the following portion of a long document to see if any of the text is relevant to answer the question. \\nReturn any relevant text verbatim.\\n{context}\\nQuestion: {question}\\nRelevant text, if any:'), llm=OpenAI(client=<openai.resources.completions.Completions object at 0x3388de480>, async_client=<openai.resources.completions.AsyncCompletions object at 0x338b0cd40>, temperature=0.9, max_tokens=500, openai_api_key='sk-proj-3kOBjmaLjIgwFSxM5uWLT3BlbkFJkGzrFwWuSEBNzu2XZwSF', openai_proxy='')), reduce_documents_chain=ReduceDocumentsChain(combine_documents_chain=StuffDocumentsChain(llm_chain=LLMChain(prompt=PromptTemplate(input_variables=['question', 'summaries'], template='Given the following extracted parts of a long document and a question, create a final answer with references (\"SOURCES\"). \\nIf you don\\'t know the answer, just say that you don\\'t know. Don\\'t try to make up an answer.\\nALWAYS return a \"SOURCES\" part in your answer.\\n\\nQUESTION: Which state/country\\'s law governs the interpretation of the contract?\\n=========\\nContent: This Agreement is governed by English law and the parties submit to the exclusive jurisdiction of the English courts in  relation to any dispute (contractual or non-contractual) concerning this Agreement save that either party may apply to any court for an  injunction or other relief to protect its Intellectual Property Rights.\\nSource: 28-pl\\nContent: No Waiver. Failure or delay in exercising any right or remedy under this Agreement shall not constitute a waiver of such (or any other)  right or remedy.\\n\\n11.7 Severability. The invalidity, illegality or unenforceability of any term (or part of a term) of this Agreement shall not affect the continuation  in force of the remainder of the term (if any) and this Agreement.\\n\\n11.8 No Agency. Except as expressly stated otherwise, nothing in this Agreement shall create an agency, partnership or joint venture of any  kind between the parties.\\n\\n11.9 No Third-Party Beneficiaries.\\nSource: 30-pl\\nContent: (b) if Google believes, in good faith, that the Distributor has violated or caused Google to violate any Anti-Bribery Laws (as  defined in Clause 8.5) or that such a violation is reasonably likely to occur,\\nSource: 4-pl\\n=========\\nFINAL ANSWER: This Agreement is governed by English law.\\nSOURCES: 28-pl\\n\\nQUESTION: What did the president say about Michael Jackson?\\n=========\\nContent: Madam Speaker, Madam Vice President, our First Lady and Second Gentleman. Members of Congress and the Cabinet. Justices of the Supreme Court. My fellow Americans.  \\n\\nLast year COVID-19 kept us apart. This year we are finally together again. \\n\\nTonight, we meet as Democrats Republicans and Independents. But most importantly as Americans. \\n\\nWith a duty to one another to the American people to the Constitution. \\n\\nAnd with an unwavering resolve that freedom will always triumph over tyranny. \\n\\nSix days ago, Russia’s Vladimir Putin sought to shake the foundations of the free world thinking he could make it bend to his menacing ways. But he badly miscalculated. \\n\\nHe thought he could roll into Ukraine and the world would roll over. Instead he met a wall of strength he never imagined. \\n\\nHe met the Ukrainian people. \\n\\nFrom President Zelenskyy to every Ukrainian, their fearlessness, their courage, their determination, inspires the world. \\n\\nGroups of citizens blocking tanks with their bodies. Everyone from students to retirees teachers turned soldiers defending their homeland.\\nSource: 0-pl\\nContent: And we won’t stop. \\n\\nWe have lost so much to COVID-19. Time with one another. And worst of all, so much loss of life. \\n\\nLet’s use this moment to reset. Let’s stop looking at COVID-19 as a partisan dividing line and see it for what it is: A God-awful disease.  \\n\\nLet’s stop seeing each other as enemies, and start seeing each other for who we really are: Fellow Americans.  \\n\\nWe can’t change how divided we’ve been. But we can change how we move forward—on COVID-19 and other issues we must face together. \\n\\nI recently visited the New York City Police Department days after the funerals of Officer Wilbert Mora and his partner, Officer Jason Rivera. \\n\\nThey were responding to a 9-1-1 call when a man shot and killed them with a stolen gun. \\n\\nOfficer Mora was 27 years old. \\n\\nOfficer Rivera was 22. \\n\\nBoth Dominican Americans who’d grown up on the same streets they later chose to patrol as police officers. \\n\\nI spoke with their families and told them that we are forever in debt for their sacrifice, and we will carry on their mission to restore the trust and safety every community deserves.\\nSource: 24-pl\\nContent: And a proud Ukrainian people, who have known 30 years  of independence, have repeatedly shown that they will not tolerate anyone who tries to take their country backwards.  \\n\\nTo all Americans, I will be honest with you, as I’ve always promised. A Russian dictator, invading a foreign country, has costs around the world. \\n\\nAnd I’m taking robust action to make sure the pain of our sanctions  is targeted at Russia’s economy. And I will use every tool at our disposal to protect American businesses and consumers. \\n\\nTonight, I can announce that the United States has worked with 30 other countries to release 60 Million barrels of oil from reserves around the world.  \\n\\nAmerica will lead that effort, releasing 30 Million barrels from our own Strategic Petroleum Reserve. And we stand ready to do more if necessary, unified with our allies.  \\n\\nThese steps will help blunt gas prices here at home. And I know the news about what’s happening can seem alarming. \\n\\nBut I want you to know that we are going to be okay.\\nSource: 5-pl\\nContent: More support for patients and families. \\n\\nTo get there, I call on Congress to fund ARPA-H, the Advanced Research Projects Agency for Health. \\n\\nIt’s based on DARPA—the Defense Department project that led to the Internet, GPS, and so much more.  \\n\\nARPA-H will have a singular purpose—to drive breakthroughs in cancer, Alzheimer’s, diabetes, and more. \\n\\nA unity agenda for the nation. \\n\\nWe can do this. \\n\\nMy fellow Americans—tonight , we have gathered in a sacred space—the citadel of our democracy. \\n\\nIn this Capitol, generation after generation, Americans have debated great questions amid great strife, and have done great things. \\n\\nWe have fought for freedom, expanded liberty, defeated totalitarianism and terror. \\n\\nAnd built the strongest, freest, and most prosperous nation the world has ever known. \\n\\nNow is the hour. \\n\\nOur moment of responsibility. \\n\\nOur test of resolve and conscience, of history itself. \\n\\nIt is in this moment that our character is formed. Our purpose is found. Our future is forged. \\n\\nWell I know this nation.\\nSource: 34-pl\\n=========\\nFINAL ANSWER: The president did not mention Michael Jackson.\\nSOURCES:\\n\\nQUESTION: {question}\\n=========\\n{summaries}\\n=========\\nFINAL ANSWER:'), llm=OpenAI(client=<openai.resources.completions.Completions object at 0x3388de480>, async_client=<openai.resources.completions.AsyncCompletions object at 0x338b0cd40>, temperature=0.9, max_tokens=500, openai_api_key='sk-proj-3kOBjmaLjIgwFSxM5uWLT3BlbkFJkGzrFwWuSEBNzu2XZwSF', openai_proxy='')), document_prompt=PromptTemplate(input_variables=['page_content', 'source'], template='Content: {page_content}\\nSource: {source}'), document_variable_name='summaries')), document_variable_name='context'), retriever=VectorStoreRetriever(tags=['FAISS', 'OpenAIEmbeddings'], vectorstore=<langchain_community.vectorstores.faiss.FAISS object at 0x338d6e180>))"
      ]
     },
     "execution_count": 129,
     "metadata": {},
     "output_type": "execute_result"
    }
   ],
   "source": [
    "retriever = vectorindex_openai.as_retriever()\n",
    "chain = RetrievalQAWithSourcesChain.from_llm(llm=llm, retriever=retriever)\n",
    "chain"
   ]
  },
  {
   "cell_type": "code",
   "execution_count": 130,
   "id": "b1e0f565-f0f6-446f-8c1c-002bfe7a0818",
   "metadata": {},
   "outputs": [
    {
     "name": "stderr",
     "output_type": "stream",
     "text": [
      "/opt/homebrew/lib/python3.12/site-packages/langchain_core/_api/deprecation.py:119: LangChainDeprecationWarning: The method `Chain.__call__` was deprecated in langchain 0.1.0 and will be removed in 0.3.0. Use invoke instead.\n",
      "  warn_deprecated(\n"
     ]
    },
    {
     "name": "stdout",
     "output_type": "stream",
     "text": [
      "\u001b[32;1m\u001b[1;3m[chain/start]\u001b[0m \u001b[1m[chain:RetrievalQAWithSourcesChain] Entering Chain run with input:\n",
      "\u001b[0m{\n",
      "  \"question\": \"What is Apple's business philosophy?\"\n",
      "}\n",
      "\u001b[32;1m\u001b[1;3m[chain/start]\u001b[0m \u001b[1m[chain:RetrievalQAWithSourcesChain > chain:MapReduceDocumentsChain] Entering Chain run with input:\n",
      "\u001b[0m[inputs]\n",
      "\u001b[32;1m\u001b[1;3m[chain/start]\u001b[0m \u001b[1m[chain:RetrievalQAWithSourcesChain > chain:MapReduceDocumentsChain > chain:LLMChain] Entering Chain run with input:\n",
      "\u001b[0m{\n",
      "  \"input_list\": [\n",
      "    {\n",
      "      \"context\": \"equity stakes in three preexisting companies, and has made three\\n\\ndivestments. Apple has not released the financial details for the majority of its mergers and acquisitions.\\n\\nApple's business philosophy is to acquire small companies that can be easily integrated into existing company projects.[6] For instance, Apple acquired Emagic and its professional music software, Logic Pro, in 2002. The acquisition was incorporated in the creation of the digital audio workstation software GarageBand, an integral part of the iLife software suite, and now one of the leading digital audio workstations on iOS and macOS.[6]\\n\\nThe company made its first acquisition on March 2, 1988, with its purchase of Network Innovations. In 2013, Apple acquired thirteen companies. Apple's largest acquisition was that of Beats Electronics in August 2014 for $3 billion.[7] Of the companies Apple has acquired, 71 were based in the United States.\",\n",
      "      \"question\": \"What is Apple's business philosophy?\"\n",
      "    },\n",
      "    {\n",
      "      \"context\": \"Toggle the table of contents\\n\\nList of mergers and acquisitions by Apple\\n\\n9 languages\\n\\nFrançais\\n\\nՀայերեն\\n\\nItaliano\\n\\n日本語\\n\\nRomână\\n\\nРусский\\n\\nСрпски / srpski\\n\\nTürkçe\\n\\nУкраїнська\\n\\nEdit links\\n\\nArticle\\n\\nTalk\\n\\nEnglish\\n\\nRead\\n\\nEdit\\n\\nView history\\n\\nTools\\n\\nTools\\n\\nActions\\n\\nRead\\n\\nEdit\\n\\nView history\\n\\nGeneral\\n\\nWhat links here\\n\\nRelated changes\\n\\nUpload file\\n\\nSpecial pages\\n\\nPermanent link\\n\\nPage information\\n\\nCite this page\\n\\nGet shortened URL\\n\\nDownload QR code\\n\\nWikidata item\\n\\nPrint/export\\n\\nDownload as PDF\\n\\nPrintable version\\n\\nFrom Wikipedia, the free encyclopedia\\n\\nInfinite Loop in\\n\\nCupertino,\\n\\nCalifornia\\n\\nApple Inc. is an American\\n\\nmultinational corporation that designs and manufactures consumer electronics and software products. It was established in\\n\\nCupertino,\\n\\nCalifornia, on April 1, 1976, by\\n\\nSteve Jobs,\\n\\nSteve Wozniak, and\\n\\nRonald Wayne,\\n\\n[1]\\n\\n[2]\\n\\n[3]\\n\\n[4]\\n\\nMacintosh line of personal computers, the\\n\\niPod line of portable media players, the\\n\\niPad line of tablets, the\\n\\niPhone line of smartphones, the\",\n",
      "      \"question\": \"What is Apple's business philosophy?\"\n",
      "    },\n",
      "    {\n",
      "      \"context\": \"Disney Partnerships AIM alliance Kaleida Labs Taligent Akamai Arm DiDi Digital Ocean iFund Imagination Rockstar Consortium Related Advertising \\\" 1984 \\\" \\\" Think different \\\" \\\" Get a Mac \\\" iPod Product Red Ecosystem Events Criticism Right to repair Tax Headquarters Campus Park University Design IDg Typography Book History Codenames Community AppleMasters Litigation Antitrust Non-recruiting agreements Price-fixing ebooks FBI encryption dispute iOS app approvals Epic Games Worker organizations Unions Depictions of Steve Jobs Linux Asahi Linux iPodLinux Car project People Executives Current Tim Cook (CEO) Jeff Williams (COO) Luca Maestri (CFO) Katherine Adams (General Counsel) Eddy Cue Craig Federighi Isabel Ge Mahe John Giannandrea Lisa Jackson Greg Joswiak Sabih Khan Deirdre O'Brien Dan Riccio Phil Schiller Johny Srouji John Ternus Former Michael Scott (CEO) Mike Markkula (CEO) John Sculley (CEO) Michael Spindler (CEO) Gil Amelio (CEO) Steve Jobs (CEO) Jony Ive (CDO) Angela Ahrendts Fred\",\n",
      "      \"question\": \"What is Apple's business philosophy?\"\n",
      "    },\n",
      "    {\n",
      "      \"context\": \"In early-May 2019, Apple CEO Tim Cook said to CNBC that Apple acquires a company every two to three weeks on average, having acquired 20 to 25 companies in the past six months alone.[8]\\n\\nAcquisitions[edit]\",\n",
      "      \"question\": \"What is Apple's business philosophy?\"\n",
      "    }\n",
      "  ]\n",
      "}\n",
      "\u001b[32;1m\u001b[1;3m[llm/start]\u001b[0m \u001b[1m[chain:RetrievalQAWithSourcesChain > chain:MapReduceDocumentsChain > chain:LLMChain > llm:OpenAI] Entering LLM run with input:\n",
      "\u001b[0m{\n",
      "  \"prompts\": [\n",
      "    \"Use the following portion of a long document to see if any of the text is relevant to answer the question. \\nReturn any relevant text verbatim.\\nequity stakes in three preexisting companies, and has made three\\n\\ndivestments. Apple has not released the financial details for the majority of its mergers and acquisitions.\\n\\nApple's business philosophy is to acquire small companies that can be easily integrated into existing company projects.[6] For instance, Apple acquired Emagic and its professional music software, Logic Pro, in 2002. The acquisition was incorporated in the creation of the digital audio workstation software GarageBand, an integral part of the iLife software suite, and now one of the leading digital audio workstations on iOS and macOS.[6]\\n\\nThe company made its first acquisition on March 2, 1988, with its purchase of Network Innovations. In 2013, Apple acquired thirteen companies. Apple's largest acquisition was that of Beats Electronics in August 2014 for $3 billion.[7] Of the companies Apple has acquired, 71 were based in the United States.\\nQuestion: What is Apple's business philosophy?\\nRelevant text, if any:\"\n",
      "  ]\n",
      "}\n",
      "\u001b[32;1m\u001b[1;3m[llm/start]\u001b[0m \u001b[1m[chain:RetrievalQAWithSourcesChain > chain:MapReduceDocumentsChain > chain:LLMChain > llm:OpenAI] Entering LLM run with input:\n",
      "\u001b[0m{\n",
      "  \"prompts\": [\n",
      "    \"Use the following portion of a long document to see if any of the text is relevant to answer the question. \\nReturn any relevant text verbatim.\\nToggle the table of contents\\n\\nList of mergers and acquisitions by Apple\\n\\n9 languages\\n\\nFrançais\\n\\nՀայերեն\\n\\nItaliano\\n\\n日本語\\n\\nRomână\\n\\nРусский\\n\\nСрпски / srpski\\n\\nTürkçe\\n\\nУкраїнська\\n\\nEdit links\\n\\nArticle\\n\\nTalk\\n\\nEnglish\\n\\nRead\\n\\nEdit\\n\\nView history\\n\\nTools\\n\\nTools\\n\\nActions\\n\\nRead\\n\\nEdit\\n\\nView history\\n\\nGeneral\\n\\nWhat links here\\n\\nRelated changes\\n\\nUpload file\\n\\nSpecial pages\\n\\nPermanent link\\n\\nPage information\\n\\nCite this page\\n\\nGet shortened URL\\n\\nDownload QR code\\n\\nWikidata item\\n\\nPrint/export\\n\\nDownload as PDF\\n\\nPrintable version\\n\\nFrom Wikipedia, the free encyclopedia\\n\\nInfinite Loop in\\n\\nCupertino,\\n\\nCalifornia\\n\\nApple Inc. is an American\\n\\nmultinational corporation that designs and manufactures consumer electronics and software products. It was established in\\n\\nCupertino,\\n\\nCalifornia, on April 1, 1976, by\\n\\nSteve Jobs,\\n\\nSteve Wozniak, and\\n\\nRonald Wayne,\\n\\n[1]\\n\\n[2]\\n\\n[3]\\n\\n[4]\\n\\nMacintosh line of personal computers, the\\n\\niPod line of portable media players, the\\n\\niPad line of tablets, the\\n\\niPhone line of smartphones, the\\nQuestion: What is Apple's business philosophy?\\nRelevant text, if any:\"\n",
      "  ]\n",
      "}\n",
      "\u001b[32;1m\u001b[1;3m[llm/start]\u001b[0m \u001b[1m[chain:RetrievalQAWithSourcesChain > chain:MapReduceDocumentsChain > chain:LLMChain > llm:OpenAI] Entering LLM run with input:\n",
      "\u001b[0m{\n",
      "  \"prompts\": [\n",
      "    \"Use the following portion of a long document to see if any of the text is relevant to answer the question. \\nReturn any relevant text verbatim.\\nDisney Partnerships AIM alliance Kaleida Labs Taligent Akamai Arm DiDi Digital Ocean iFund Imagination Rockstar Consortium Related Advertising \\\" 1984 \\\" \\\" Think different \\\" \\\" Get a Mac \\\" iPod Product Red Ecosystem Events Criticism Right to repair Tax Headquarters Campus Park University Design IDg Typography Book History Codenames Community AppleMasters Litigation Antitrust Non-recruiting agreements Price-fixing ebooks FBI encryption dispute iOS app approvals Epic Games Worker organizations Unions Depictions of Steve Jobs Linux Asahi Linux iPodLinux Car project People Executives Current Tim Cook (CEO) Jeff Williams (COO) Luca Maestri (CFO) Katherine Adams (General Counsel) Eddy Cue Craig Federighi Isabel Ge Mahe John Giannandrea Lisa Jackson Greg Joswiak Sabih Khan Deirdre O'Brien Dan Riccio Phil Schiller Johny Srouji John Ternus Former Michael Scott (CEO) Mike Markkula (CEO) John Sculley (CEO) Michael Spindler (CEO) Gil Amelio (CEO) Steve Jobs (CEO) Jony Ive (CDO) Angela Ahrendts Fred\\nQuestion: What is Apple's business philosophy?\\nRelevant text, if any:\"\n",
      "  ]\n",
      "}\n",
      "\u001b[32;1m\u001b[1;3m[llm/start]\u001b[0m \u001b[1m[chain:RetrievalQAWithSourcesChain > chain:MapReduceDocumentsChain > chain:LLMChain > llm:OpenAI] Entering LLM run with input:\n",
      "\u001b[0m{\n",
      "  \"prompts\": [\n",
      "    \"Use the following portion of a long document to see if any of the text is relevant to answer the question. \\nReturn any relevant text verbatim.\\nIn early-May 2019, Apple CEO Tim Cook said to CNBC that Apple acquires a company every two to three weeks on average, having acquired 20 to 25 companies in the past six months alone.[8]\\n\\nAcquisitions[edit]\\nQuestion: What is Apple's business philosophy?\\nRelevant text, if any:\"\n",
      "  ]\n",
      "}\n",
      "\u001b[36;1m\u001b[1;3m[llm/end]\u001b[0m \u001b[1m[chain:RetrievalQAWithSourcesChain > chain:MapReduceDocumentsChain > chain:LLMChain > llm:OpenAI] [1.38s] Exiting LLM run with output:\n",
      "\u001b[0m{\n",
      "  \"generations\": [\n",
      "    [\n",
      "      {\n",
      "        \"text\": \" Apple's business philosophy is to acquire small companies that can be easily integrated into existing company projects.\",\n",
      "        \"generation_info\": {\n",
      "          \"finish_reason\": \"stop\",\n",
      "          \"logprobs\": null\n",
      "        },\n",
      "        \"type\": \"Generation\"\n",
      "      }\n",
      "    ]\n",
      "  ],\n",
      "  \"llm_output\": {\n",
      "    \"token_usage\": {\n",
      "      \"prompt_tokens\": 937,\n",
      "      \"total_tokens\": 1030,\n",
      "      \"completion_tokens\": 93\n",
      "    },\n",
      "    \"model_name\": \"gpt-3.5-turbo-instruct\"\n",
      "  },\n",
      "  \"run\": null\n",
      "}\n",
      "\u001b[36;1m\u001b[1;3m[llm/end]\u001b[0m \u001b[1m[chain:RetrievalQAWithSourcesChain > chain:MapReduceDocumentsChain > chain:LLMChain > llm:OpenAI] [1.38s] Exiting LLM run with output:\n",
      "\u001b[0m{\n",
      "  \"generations\": [\n",
      "    [\n",
      "      {\n",
      "        \"text\": \" Apple Inc. is an American multinational corporation that designs and manufactures consumer electronics and software products.\",\n",
      "        \"generation_info\": {\n",
      "          \"finish_reason\": \"stop\",\n",
      "          \"logprobs\": null\n",
      "        },\n",
      "        \"type\": \"Generation\"\n",
      "      }\n",
      "    ]\n",
      "  ],\n",
      "  \"llm_output\": {\n",
      "    \"token_usage\": {},\n",
      "    \"model_name\": \"gpt-3.5-turbo-instruct\"\n",
      "  },\n",
      "  \"run\": null\n",
      "}\n",
      "\u001b[36;1m\u001b[1;3m[llm/end]\u001b[0m \u001b[1m[chain:RetrievalQAWithSourcesChain > chain:MapReduceDocumentsChain > chain:LLMChain > llm:OpenAI] [1.38s] Exiting LLM run with output:\n",
      "\u001b[0m{\n",
      "  \"generations\": [\n",
      "    [\n",
      "      {\n",
      "        \"text\": \" \\\"Think different\\\"\",\n",
      "        \"generation_info\": {\n",
      "          \"finish_reason\": \"stop\",\n",
      "          \"logprobs\": null\n",
      "        },\n",
      "        \"type\": \"Generation\"\n",
      "      }\n",
      "    ]\n",
      "  ],\n",
      "  \"llm_output\": {\n",
      "    \"token_usage\": {},\n",
      "    \"model_name\": \"gpt-3.5-turbo-instruct\"\n",
      "  },\n",
      "  \"run\": null\n",
      "}\n",
      "\u001b[36;1m\u001b[1;3m[llm/end]\u001b[0m \u001b[1m[chain:RetrievalQAWithSourcesChain > chain:MapReduceDocumentsChain > chain:LLMChain > llm:OpenAI] [1.38s] Exiting LLM run with output:\n",
      "\u001b[0m{\n",
      "  \"generations\": [\n",
      "    [\n",
      "      {\n",
      "        \"text\": \"\\nApple's business philosophy appears to involve consistently acquiring new companies, with CEO Tim Cook stating that they acquire a company every two to three weeks on average. This strategy is evident in their acquisition of 20 to 25 companies in just the past six months.\",\n",
      "        \"generation_info\": {\n",
      "          \"finish_reason\": \"stop\",\n",
      "          \"logprobs\": null\n",
      "        },\n",
      "        \"type\": \"Generation\"\n",
      "      }\n",
      "    ]\n",
      "  ],\n",
      "  \"llm_output\": {\n",
      "    \"token_usage\": {},\n",
      "    \"model_name\": \"gpt-3.5-turbo-instruct\"\n",
      "  },\n",
      "  \"run\": null\n",
      "}\n",
      "\u001b[36;1m\u001b[1;3m[chain/end]\u001b[0m \u001b[1m[chain:RetrievalQAWithSourcesChain > chain:MapReduceDocumentsChain > chain:LLMChain] [1.39s] Exiting Chain run with output:\n",
      "\u001b[0m{\n",
      "  \"outputs\": [\n",
      "    {\n",
      "      \"text\": \" Apple's business philosophy is to acquire small companies that can be easily integrated into existing company projects.\"\n",
      "    },\n",
      "    {\n",
      "      \"text\": \" Apple Inc. is an American multinational corporation that designs and manufactures consumer electronics and software products.\"\n",
      "    },\n",
      "    {\n",
      "      \"text\": \" \\\"Think different\\\"\"\n",
      "    },\n",
      "    {\n",
      "      \"text\": \"\\nApple's business philosophy appears to involve consistently acquiring new companies, with CEO Tim Cook stating that they acquire a company every two to three weeks on average. This strategy is evident in their acquisition of 20 to 25 companies in just the past six months.\"\n",
      "    }\n",
      "  ]\n",
      "}\n",
      "\u001b[32;1m\u001b[1;3m[chain/start]\u001b[0m \u001b[1m[chain:RetrievalQAWithSourcesChain > chain:MapReduceDocumentsChain > chain:LLMChain] Entering Chain run with input:\n",
      "\u001b[0m{\n",
      "  \"question\": \"What is Apple's business philosophy?\",\n",
      "  \"summaries\": \"Content:  Apple's business philosophy is to acquire small companies that can be easily integrated into existing company projects.\\nSource: https://en.wikipedia.org/wiki/List_of_mergers_and_acquisitions_by_Apple\\n\\nContent:  Apple Inc. is an American multinational corporation that designs and manufactures consumer electronics and software products.\\nSource: https://en.wikipedia.org/wiki/List_of_mergers_and_acquisitions_by_Apple\\n\\nContent:  \\\"Think different\\\"\\nSource: https://en.wikipedia.org/wiki/List_of_mergers_and_acquisitions_by_Apple\\n\\nContent: \\nApple's business philosophy appears to involve consistently acquiring new companies, with CEO Tim Cook stating that they acquire a company every two to three weeks on average. This strategy is evident in their acquisition of 20 to 25 companies in just the past six months.\\nSource: https://en.wikipedia.org/wiki/List_of_mergers_and_acquisitions_by_Apple\"\n",
      "}\n",
      "\u001b[32;1m\u001b[1;3m[llm/start]\u001b[0m \u001b[1m[chain:RetrievalQAWithSourcesChain > chain:MapReduceDocumentsChain > chain:LLMChain > llm:OpenAI] Entering LLM run with input:\n",
      "\u001b[0m{\n",
      "  \"prompts\": [\n",
      "    \"Given the following extracted parts of a long document and a question, create a final answer with references (\\\"SOURCES\\\"). \\nIf you don't know the answer, just say that you don't know. Don't try to make up an answer.\\nALWAYS return a \\\"SOURCES\\\" part in your answer.\\n\\nQUESTION: Which state/country's law governs the interpretation of the contract?\\n=========\\nContent: This Agreement is governed by English law and the parties submit to the exclusive jurisdiction of the English courts in  relation to any dispute (contractual or non-contractual) concerning this Agreement save that either party may apply to any court for an  injunction or other relief to protect its Intellectual Property Rights.\\nSource: 28-pl\\nContent: No Waiver. Failure or delay in exercising any right or remedy under this Agreement shall not constitute a waiver of such (or any other)  right or remedy.\\n\\n11.7 Severability. The invalidity, illegality or unenforceability of any term (or part of a term) of this Agreement shall not affect the continuation  in force of the remainder of the term (if any) and this Agreement.\\n\\n11.8 No Agency. Except as expressly stated otherwise, nothing in this Agreement shall create an agency, partnership or joint venture of any  kind between the parties.\\n\\n11.9 No Third-Party Beneficiaries.\\nSource: 30-pl\\nContent: (b) if Google believes, in good faith, that the Distributor has violated or caused Google to violate any Anti-Bribery Laws (as  defined in Clause 8.5) or that such a violation is reasonably likely to occur,\\nSource: 4-pl\\n=========\\nFINAL ANSWER: This Agreement is governed by English law.\\nSOURCES: 28-pl\\n\\nQUESTION: What did the president say about Michael Jackson?\\n=========\\nContent: Madam Speaker, Madam Vice President, our First Lady and Second Gentleman. Members of Congress and the Cabinet. Justices of the Supreme Court. My fellow Americans.  \\n\\nLast year COVID-19 kept us apart. This year we are finally together again. \\n\\nTonight, we meet as Democrats Republicans and Independents. But most importantly as Americans. \\n\\nWith a duty to one another to the American people to the Constitution. \\n\\nAnd with an unwavering resolve that freedom will always triumph over tyranny. \\n\\nSix days ago, Russia’s Vladimir Putin sought to shake the foundations of the free world thinking he could make it bend to his menacing ways. But he badly miscalculated. \\n\\nHe thought he could roll into Ukraine and the world would roll over. Instead he met a wall of strength he never imagined. \\n\\nHe met the Ukrainian people. \\n\\nFrom President Zelenskyy to every Ukrainian, their fearlessness, their courage, their determination, inspires the world. \\n\\nGroups of citizens blocking tanks with their bodies. Everyone from students to retirees teachers turned soldiers defending their homeland.\\nSource: 0-pl\\nContent: And we won’t stop. \\n\\nWe have lost so much to COVID-19. Time with one another. And worst of all, so much loss of life. \\n\\nLet’s use this moment to reset. Let’s stop looking at COVID-19 as a partisan dividing line and see it for what it is: A God-awful disease.  \\n\\nLet’s stop seeing each other as enemies, and start seeing each other for who we really are: Fellow Americans.  \\n\\nWe can’t change how divided we’ve been. But we can change how we move forward—on COVID-19 and other issues we must face together. \\n\\nI recently visited the New York City Police Department days after the funerals of Officer Wilbert Mora and his partner, Officer Jason Rivera. \\n\\nThey were responding to a 9-1-1 call when a man shot and killed them with a stolen gun. \\n\\nOfficer Mora was 27 years old. \\n\\nOfficer Rivera was 22. \\n\\nBoth Dominican Americans who’d grown up on the same streets they later chose to patrol as police officers. \\n\\nI spoke with their families and told them that we are forever in debt for their sacrifice, and we will carry on their mission to restore the trust and safety every community deserves.\\nSource: 24-pl\\nContent: And a proud Ukrainian people, who have known 30 years  of independence, have repeatedly shown that they will not tolerate anyone who tries to take their country backwards.  \\n\\nTo all Americans, I will be honest with you, as I’ve always promised. A Russian dictator, invading a foreign country, has costs around the world. \\n\\nAnd I’m taking robust action to make sure the pain of our sanctions  is targeted at Russia’s economy. And I will use every tool at our disposal to protect American businesses and consumers. \\n\\nTonight, I can announce that the United States has worked with 30 other countries to release 60 Million barrels of oil from reserves around the world.  \\n\\nAmerica will lead that effort, releasing 30 Million barrels from our own Strategic Petroleum Reserve. And we stand ready to do more if necessary, unified with our allies.  \\n\\nThese steps will help blunt gas prices here at home. And I know the news about what’s happening can seem alarming. \\n\\nBut I want you to know that we are going to be okay.\\nSource: 5-pl\\nContent: More support for patients and families. \\n\\nTo get there, I call on Congress to fund ARPA-H, the Advanced Research Projects Agency for Health. \\n\\nIt’s based on DARPA—the Defense Department project that led to the Internet, GPS, and so much more.  \\n\\nARPA-H will have a singular purpose—to drive breakthroughs in cancer, Alzheimer’s, diabetes, and more. \\n\\nA unity agenda for the nation. \\n\\nWe can do this. \\n\\nMy fellow Americans—tonight , we have gathered in a sacred space—the citadel of our democracy. \\n\\nIn this Capitol, generation after generation, Americans have debated great questions amid great strife, and have done great things. \\n\\nWe have fought for freedom, expanded liberty, defeated totalitarianism and terror. \\n\\nAnd built the strongest, freest, and most prosperous nation the world has ever known. \\n\\nNow is the hour. \\n\\nOur moment of responsibility. \\n\\nOur test of resolve and conscience, of history itself. \\n\\nIt is in this moment that our character is formed. Our purpose is found. Our future is forged. \\n\\nWell I know this nation.\\nSource: 34-pl\\n=========\\nFINAL ANSWER: The president did not mention Michael Jackson.\\nSOURCES:\\n\\nQUESTION: What is Apple's business philosophy?\\n=========\\nContent:  Apple's business philosophy is to acquire small companies that can be easily integrated into existing company projects.\\nSource: https://en.wikipedia.org/wiki/List_of_mergers_and_acquisitions_by_Apple\\n\\nContent:  Apple Inc. is an American multinational corporation that designs and manufactures consumer electronics and software products.\\nSource: https://en.wikipedia.org/wiki/List_of_mergers_and_acquisitions_by_Apple\\n\\nContent:  \\\"Think different\\\"\\nSource: https://en.wikipedia.org/wiki/List_of_mergers_and_acquisitions_by_Apple\\n\\nContent: \\nApple's business philosophy appears to involve consistently acquiring new companies, with CEO Tim Cook stating that they acquire a company every two to three weeks on average. This strategy is evident in their acquisition of 20 to 25 companies in just the past six months.\\nSource: https://en.wikipedia.org/wiki/List_of_mergers_and_acquisitions_by_Apple\\n=========\\nFINAL ANSWER:\"\n",
      "  ]\n",
      "}\n",
      "\u001b[36;1m\u001b[1;3m[llm/end]\u001b[0m \u001b[1m[chain:RetrievalQAWithSourcesChain > chain:MapReduceDocumentsChain > chain:LLMChain > llm:OpenAI] [935ms] Exiting LLM run with output:\n",
      "\u001b[0m{\n",
      "  \"generations\": [\n",
      "    [\n",
      "      {\n",
      "        \"text\": \" Apple's business philosophy is to consistently acquire small companies to integrate into existing projects.\\nSOURCES: https://en.wikipedia.org/wiki/List_of_mergers_and_acquisitions_by_Apple\",\n",
      "        \"generation_info\": {\n",
      "          \"finish_reason\": \"stop\",\n",
      "          \"logprobs\": null\n",
      "        },\n",
      "        \"type\": \"Generation\"\n",
      "      }\n",
      "    ]\n",
      "  ],\n",
      "  \"llm_output\": {\n",
      "    \"token_usage\": {\n",
      "      \"prompt_tokens\": 1532,\n",
      "      \"total_tokens\": 1568,\n",
      "      \"completion_tokens\": 36\n",
      "    },\n",
      "    \"model_name\": \"gpt-3.5-turbo-instruct\"\n",
      "  },\n",
      "  \"run\": null\n",
      "}\n",
      "\u001b[36;1m\u001b[1;3m[chain/end]\u001b[0m \u001b[1m[chain:RetrievalQAWithSourcesChain > chain:MapReduceDocumentsChain > chain:LLMChain] [937ms] Exiting Chain run with output:\n",
      "\u001b[0m{\n",
      "  \"text\": \" Apple's business philosophy is to consistently acquire small companies to integrate into existing projects.\\nSOURCES: https://en.wikipedia.org/wiki/List_of_mergers_and_acquisitions_by_Apple\"\n",
      "}\n",
      "\u001b[36;1m\u001b[1;3m[chain/end]\u001b[0m \u001b[1m[chain:RetrievalQAWithSourcesChain > chain:MapReduceDocumentsChain] [2.34s] Exiting Chain run with output:\n",
      "\u001b[0m{\n",
      "  \"output_text\": \" Apple's business philosophy is to consistently acquire small companies to integrate into existing projects.\\nSOURCES: https://en.wikipedia.org/wiki/List_of_mergers_and_acquisitions_by_Apple\"\n",
      "}\n",
      "\u001b[36;1m\u001b[1;3m[chain/end]\u001b[0m \u001b[1m[chain:RetrievalQAWithSourcesChain] [2.58s] Exiting Chain run with output:\n",
      "\u001b[0m{\n",
      "  \"answer\": \" Apple's business philosophy is to consistently acquire small companies to integrate into existing projects.\\n\",\n",
      "  \"sources\": \"https://en.wikipedia.org/wiki/List_of_mergers_and_acquisitions_by_Apple\"\n",
      "}\n"
     ]
    },
    {
     "data": {
      "text/plain": [
       "{'answer': \" Apple's business philosophy is to consistently acquire small companies to integrate into existing projects.\\n\",\n",
       " 'sources': 'https://en.wikipedia.org/wiki/List_of_mergers_and_acquisitions_by_Apple'}"
      ]
     },
     "execution_count": 130,
     "metadata": {},
     "output_type": "execute_result"
    }
   ],
   "source": [
    "query = \"What is Apple's business philosophy?\"\n",
    "langchain.debug=True\n",
    "chain({\"question\": query}, return_only_outputs=True)"
   ]
  },
  {
   "cell_type": "code",
   "execution_count": null,
   "id": "b4431144-c6e9-4c59-a715-db248d366a52",
   "metadata": {},
   "outputs": [],
   "source": []
  }
 ],
 "metadata": {
  "kernelspec": {
   "display_name": "Python 3 (ipykernel)",
   "language": "python",
   "name": "python3"
  },
  "language_info": {
   "codemirror_mode": {
    "name": "ipython",
    "version": 3
   },
   "file_extension": ".py",
   "mimetype": "text/x-python",
   "name": "python",
   "nbconvert_exporter": "python",
   "pygments_lexer": "ipython3",
   "version": "3.12.3"
  }
 },
 "nbformat": 4,
 "nbformat_minor": 5
}
